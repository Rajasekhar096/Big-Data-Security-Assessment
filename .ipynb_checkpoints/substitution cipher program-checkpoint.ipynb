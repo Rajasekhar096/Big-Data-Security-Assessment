{
 "cells": [
  {
   "cell_type": "markdown",
   "id": "3f7d1b6b-257d-409e-b295-f5eda4d69356",
   "metadata": {},
   "source": [
    "## Problem 4: Substitution Cipher Program"
   ]
  },
  {
   "cell_type": "raw",
   "id": "614dcc2b-86e8-4d1d-a567-c7ec16235879",
   "metadata": {},
   "source": [
    "Problem 4: Substitution Cipher Program\n",
    "Objective: Develop a program that implements a substitution cipher for encrypting\n",
    "and decrypting text files. The program should allow for custom cipher alphabets and\n",
    "include robust error handling for non-alphabetic characters. Key Concepts: Substitution cipher, data validation."
   ]
  },
  {
   "cell_type": "code",
   "execution_count": 7,
   "id": "0f7b0008-0747-4dc4-ac69-bbb7c8d47a94",
   "metadata": {},
   "outputs": [
    {
     "name": "stdin",
     "output_type": "stream",
     "text": [
      "Enter the substitution key (26 characters, no duplicates):  asdfghjkl\n"
     ]
    },
    {
     "name": "stdout",
     "output_type": "stream",
     "text": [
      "An error occurred: string index out of range\n"
     ]
    }
   ],
   "source": [
    "def substitution_cipher(text, key, mode):\n",
    "    alphabet = \"abcdefghijklmnopqrstuvwxyz\"\n",
    "    result = \"\"\n",
    "    \n",
    "    if mode == \"encrypt\":\n",
    "        for char in text:\n",
    "            if char.lower() in alphabet:\n",
    "                index = alphabet.index(char.lower())\n",
    "                if char.islower():\n",
    "                    result += key[index].lower()\n",
    "                else:\n",
    "                    result += key[index].upper()\n",
    "            else:\n",
    "                result += char\n",
    "    elif mode == \"decrypt\":\n",
    "        for char in text:\n",
    "            if char.lower() in key:\n",
    "                index = key.index(char.lower())\n",
    "                if char.islower():\n",
    "                    result += alphabet[index].lower()\n",
    "                else:\n",
    "                    result += alphabet[index].upper()\n",
    "            else:\n",
    "                result += char\n",
    "                \n",
    "    return result\n",
    "\n",
    "def main():\n",
    "    input_file = \"substitution_input.txt\"\n",
    "    encrypt_output_file = \"substitution_encrypted_output.txt\"\n",
    "    decrypt_output_file = \"substitution_decrypted_output.txt\"\n",
    "    key = input(\"Enter the substitution key (26 characters, no duplicates): \")\n",
    "    \n",
    "    try:\n",
    "        with open(input_file, \"r\") as file:\n",
    "            text = file.read()\n",
    "            \n",
    "        encrypted_result = substitution_cipher(text, key, \"encrypt\")\n",
    "        decrypted_result = substitution_cipher(text, key, \"decrypt\")\n",
    "        \n",
    "        with open(encrypt_output_file, \"w\") as encrypt_file:\n",
    "            encrypt_file.write(encrypted_result)\n",
    "            \n",
    "        with open(decrypt_output_file, \"w\") as decrypt_file:\n",
    "            decrypt_file.write(decrypted_result)\n",
    "            \n",
    "        print(f\"Encryption successful. Encrypted output written to {encrypt_output_file}.\")\n",
    "        print(f\"Decryption successful. Decrypted output written to {decrypt_output_file}.\")\n",
    "        \n",
    "    except FileNotFoundError:\n",
    "        print(\"Input file not found.\")\n",
    "    except Exception as e:\n",
    "        print(\"An error occurred:\", e)\n",
    "\n",
    "if __name__ == \"__main__\":\n",
    "    main()\n"
   ]
  },
  {
   "cell_type": "code",
   "execution_count": null,
   "id": "40da556e-ea35-497b-b6cd-cb96ad723f32",
   "metadata": {},
   "outputs": [],
   "source": []
  }
 ],
 "metadata": {
  "kernelspec": {
   "display_name": "Python 3 (ipykernel)",
   "language": "python",
   "name": "python3"
  },
  "language_info": {
   "codemirror_mode": {
    "name": "ipython",
    "version": 3
   },
   "file_extension": ".py",
   "mimetype": "text/x-python",
   "name": "python",
   "nbconvert_exporter": "python",
   "pygments_lexer": "ipython3",
   "version": "3.9.0"
  }
 },
 "nbformat": 4,
 "nbformat_minor": 5
}
