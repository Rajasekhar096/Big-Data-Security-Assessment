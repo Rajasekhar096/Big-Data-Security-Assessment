{
 "cells": [
  {
   "cell_type": "markdown",
   "id": "de5fc188-6089-4925-9f42-8db334078d4e",
   "metadata": {},
   "source": [
    "## Problem 1: Symmetric Encryption Service Objective: "
   ]
  },
  {
   "cell_type": "raw",
   "id": "d583833d-687b-4106-b3dd-d93d6568fdae",
   "metadata": {},
   "source": [
    "Problem 1: Symmetric Encryption Service Objective: \n",
    "Write a program that allows users to encrypt and decrypt files using asymmetric encryption algorithm (AES). The program should generate a \n",
    "secure key dynamically and provide options for the user to specify the encryption mode. Key Concepts: AES, key management, encryption modes."
   ]
  },
  {
   "cell_type": "code",
   "execution_count": null,
   "id": "5a0d7547-c282-40f1-aae6-63db8693c469",
   "metadata": {},
   "outputs": [],
   "source": [
    "pip install pycryptodome"
   ]
  },
  {
   "cell_type": "code",
   "execution_count": 3,
   "id": "190a8af9-3b12-4cb6-9000-5bbe89be0ec1",
   "metadata": {},
   "outputs": [
    {
     "name": "stdout",
     "output_type": "stream",
     "text": [
      "Random Key: b\"z#\\x1b\\x08\\xcf\\x15/l'\\xc9.\\xf1\\xf3\\x08h\\xa0\\x8e\\xf8\\x91\\xd3\\x8d\\x81\\x06\\xabj\\xceg\\xfb\\\\\\xe6\\xe4\\xce\"\n"
     ]
    },
    {
     "name": "stdin",
     "output_type": "stream",
     "text": [
      "Enter your password:  rajasekhar\n"
     ]
    },
    {
     "name": "stdout",
     "output_type": "stream",
     "text": [
      "Encrypted data has been written to encrypted.txt\n",
      "Decrypted data has been written to decrypted.txt\n"
     ]
    }
   ],
   "source": [
    "from Crypto.Random import get_random_bytes\n",
    "from Crypto.Protocol.KDF import PBKDF2\n",
    "from Crypto.Cipher import AES\n",
    "from Crypto.Util.Padding import pad, unpad\n",
    "\n",
    "# Generate a random key\n",
    "simple_key = get_random_bytes(32)\n",
    "print(\"Random Key:\", simple_key)\n",
    "\n",
    "# Get input from the user\n",
    "password = input(\"Enter your password: \")\n",
    "\n",
    "# Read input text from a .txt file\n",
    "with open('plaintext.txt', 'r') as file:\n",
    "    message = file.read()\n",
    "\n",
    "# Derive a key using PBKDF2\n",
    "key = PBKDF2(password, simple_key, dkLen=32)\n",
    "\n",
    "# Encrypt the message\n",
    "cipher = AES.new(key, AES.MODE_CBC)\n",
    "ciphered_data = cipher.encrypt(pad(message.encode(), AES.block_size))\n",
    "\n",
    "# Write encrypted data to a file\n",
    "with open('encrypted.txt', 'wb') as f:\n",
    "    f.write(cipher.iv)\n",
    "    f.write(ciphered_data)\n",
    "\n",
    "# Read encrypted data from the file and decrypt it\n",
    "with open('encrypted.txt', 'rb') as f:\n",
    "    iv = f.read(16)\n",
    "    decrypt_data = f.read()\n",
    "\n",
    "cipher = AES.new(key, AES.MODE_CBC, iv=iv)\n",
    "original = unpad(cipher.decrypt(decrypt_data), AES.block_size)\n",
    "\n",
    "# Write decrypted data to a .txt file\n",
    "with open('decrypted.txt', 'w') as file:\n",
    "    file.write(original.decode())\n",
    "\n",
    "print(\"Encrypted data has been written to encrypted.txt\")\n",
    "print(\"Decrypted data has been written to decrypted.txt\")\n"
   ]
  },
  {
   "cell_type": "code",
   "execution_count": null,
   "id": "5e0699c8-61e3-473b-8dc1-be561cd7aca1",
   "metadata": {},
   "outputs": [],
   "source": []
  }
 ],
 "metadata": {
  "kernelspec": {
   "display_name": "Python 3 (ipykernel)",
   "language": "python",
   "name": "python3"
  },
  "language_info": {
   "codemirror_mode": {
    "name": "ipython",
    "version": 3
   },
   "file_extension": ".py",
   "mimetype": "text/x-python",
   "name": "python",
   "nbconvert_exporter": "python",
   "pygments_lexer": "ipython3",
   "version": "3.9.0"
  }
 },
 "nbformat": 4,
 "nbformat_minor": 5
}
