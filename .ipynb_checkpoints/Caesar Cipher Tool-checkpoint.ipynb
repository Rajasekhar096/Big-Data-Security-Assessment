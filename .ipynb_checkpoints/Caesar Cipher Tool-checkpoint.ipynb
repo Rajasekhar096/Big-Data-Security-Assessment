{
 "cells": [
  {
   "cell_type": "markdown",
   "id": "b4bd197c-bc84-40ab-a76c-e42eb9de4e48",
   "metadata": {},
   "source": [
    "## Problem 3: Caesar Cipher Tool:"
   ]
  },
  {
   "cell_type": "code",
   "execution_count": null,
   "id": "22dfd938-b920-4fb4-a10d-48aa7d0b3bc9",
   "metadata": {},
   "outputs": [],
   "source": [
    "Problem 3: Caesar Cipher Tool:\n",
    "Objective: Implement a Caesar cipher tool with a user-friendly interface that allowsusers to encrypt and decrypt text. Include \n",
    "options for shifting and wrap-around handling. Key Concepts: Caesar cipher, modular arithmetic"
   ]
  },
  {
   "cell_type": "code",
   "execution_count": 1,
   "id": "1ffe3004-c251-43f9-88f4-ee87a5e322b9",
   "metadata": {},
   "outputs": [
    {
     "name": "stdout",
     "output_type": "stream",
     "text": [
      "Welcome to the Caesar Cipher Tool!\n"
     ]
    },
    {
     "name": "stdin",
     "output_type": "stream",
     "text": [
      "Do you want to (E)ncrypt or (D)ecrypt text? (Q to quit):  D\n",
      "Enter the text to decrypt:  hello\n",
      "Enter the shift value:  3\n"
     ]
    },
    {
     "name": "stdout",
     "output_type": "stream",
     "text": [
      "Decrypted text: ebiil\n"
     ]
    },
    {
     "name": "stdin",
     "output_type": "stream",
     "text": [
      "Do you want to (E)ncrypt or (D)ecrypt text? (Q to quit):  q\n"
     ]
    }
   ],
   "source": [
    "def caesar_encrypt(text, shift):\n",
    "    encrypted_text = ''\n",
    "    for char in text:\n",
    "        if char.isalpha():\n",
    "            if char.islower():\n",
    "                encrypted_text += chr((ord(char) - ord('a') + shift) % 26 + ord('a'))\n",
    "            else:\n",
    "                encrypted_text += chr((ord(char) - ord('A') + shift) % 26 + ord('A'))\n",
    "        else:\n",
    "            encrypted_text += char\n",
    "    return encrypted_text\n",
    "\n",
    "def caesar_decrypt(text, shift):\n",
    "    return caesar_encrypt(text, -shift)\n",
    "\n",
    "def main():\n",
    "    print(\"Welcome to the Caesar Cipher Tool!\")\n",
    "    while True:\n",
    "        choice = input(\"Do you want to (E)ncrypt or (D)ecrypt text? (Q to quit): \").upper()\n",
    "        if choice == 'Q':\n",
    "            break\n",
    "        elif choice == 'E':\n",
    "            text = input(\"Enter the text to encrypt: \")\n",
    "            shift = int(input(\"Enter the shift value: \"))\n",
    "            encrypted_text = caesar_encrypt(text, shift)\n",
    "            print(\"Encrypted text:\", encrypted_text)\n",
    "        elif choice == 'D':\n",
    "            text = input(\"Enter the text to decrypt: \")\n",
    "            shift = int(input(\"Enter the shift value: \"))\n",
    "            decrypted_text = caesar_decrypt(text, shift)\n",
    "            print(\"Decrypted text:\", decrypted_text)\n",
    "        else:\n",
    "            print(\"Invalid choice. Please enter E, D, or Q.\")\n",
    "\n",
    "if __name__ == \"__main__\":\n",
    "    main()\n"
   ]
  },
  {
   "cell_type": "code",
   "execution_count": null,
   "id": "e0c9457a-4c7f-41ef-bc86-4ebd15c9b9e0",
   "metadata": {},
   "outputs": [],
   "source": []
  }
 ],
 "metadata": {
  "kernelspec": {
   "display_name": "Python 3 (ipykernel)",
   "language": "python",
   "name": "python3"
  },
  "language_info": {
   "codemirror_mode": {
    "name": "ipython",
    "version": 3
   },
   "file_extension": ".py",
   "mimetype": "text/x-python",
   "name": "python",
   "nbconvert_exporter": "python",
   "pygments_lexer": "ipython3",
   "version": "3.9.0"
  }
 },
 "nbformat": 4,
 "nbformat_minor": 5
}
